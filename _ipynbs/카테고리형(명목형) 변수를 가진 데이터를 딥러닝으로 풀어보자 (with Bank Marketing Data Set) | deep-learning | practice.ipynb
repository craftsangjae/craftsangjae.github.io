{
 "cells": [
  {
   "cell_type": "markdown",
   "metadata": {},
   "source": [
    "## Objective\n",
    "\n",
    "많은 캐글대회나 머신러닝 예제들을 보면, 카테고리형(명목형) 변수를 가진 데이터는 대체로 Decision Tree 계통의 모형으로 해결합니다. 하지만 딥러닝도 Decision Tree 만큼이나 효과적으로 카테고리형(명목형) 변수를 우수하게 처리할 수 있습니다. [UCI](https://archive.ics.uci.edu/ml/datasets.php)에서 카테고리형 변수에 대한 데이터셋인 은행 정기예금 가입 데이터를 통해 살펴보도록 하겠습니다.\n",
    "\n",
    "![](https://imgur.com/RTV6hAo.png)"
   ]
  },
  {
   "cell_type": "markdown",
   "metadata": {},
   "source": [
    "### 패키지 가져오기\n",
    "\n",
    "Tensorflow 2 버전으로 작성되어 있습니다. "
   ]
  },
  {
   "cell_type": "code",
   "execution_count": 1,
   "metadata": {},
   "outputs": [],
   "source": [
    "import numpy as np\n",
    "import pandas as pd\n",
    "import tensorflow as tf\n",
    "\n",
    "np.set_printoptions(precision=3)"
   ]
  },
  {
   "cell_type": "markdown",
   "metadata": {},
   "source": [
    "## 데이터 톺아보기"
   ]
  },
  {
   "cell_type": "markdown",
   "metadata": {},
   "source": [
    "### 데이터 가져오기\n",
    "\n",
    "[ucl - bank marketing data set](https://archive.ics.uci.edu/ml/datasets/Bank%2BMarketing)에서 제공됩니다. 동일한 데이터를 구글 드라이브에 올려두어서, 아래와 같이 간단히 다운받을 수 있습니다."
   ]
  },
  {
   "cell_type": "code",
   "execution_count": null,
   "metadata": {},
   "outputs": [],
   "source": [
    "from tensorflow.keras.utils import get_file\n",
    "\n",
    "fpath = get_file(\"bank-full.csv\",\n",
    "                 \"https://docs.google.com/uc?id=16Z2Jyg9BPB8kLeuGDRNLpXZdF77W32_p\")\n",
    "df = pd.read_csv(fpath, sep=';')"
   ]
  },
  {
   "cell_type": "markdown",
   "metadata": {},
   "source": [
    "### 데이터 파악하기\n",
    "\n",
    "고객의 여러 정보들을 통해, 해당 고객이 장기 예금에 가입할 것인지($y$)를 예측하는 문제입니다. 총 45211건의 데이터가 존재하고, 입력 변수는 총 16개로 명목형 변수와 수치형 변수가 섞여 있습니다.\n",
    "\n",
    "* 명목형 변수 : job, marital, education, default, housing, loan, contact, month, poutcome\n",
    "* 수치형 변수 : age, balance, day, duration, campaign, pdays, previous"
   ]
  },
  {
   "cell_type": "code",
   "execution_count": 3,
   "metadata": {},
   "outputs": [
    {
     "name": "stdout",
     "output_type": "stream",
     "text": [
      "데이터의 크기 : {df.shape}\n"
     ]
    },
    {
     "data": {
      "text/html": [
       "<div>\n",
       "<style scoped>\n",
       "    .dataframe tbody tr th:only-of-type {\n",
       "        vertical-align: middle;\n",
       "    }\n",
       "\n",
       "    .dataframe tbody tr th {\n",
       "        vertical-align: top;\n",
       "    }\n",
       "\n",
       "    .dataframe thead th {\n",
       "        text-align: right;\n",
       "    }\n",
       "</style>\n",
       "<table border=\"1\" class=\"dataframe\">\n",
       "  <thead>\n",
       "    <tr style=\"text-align: right;\">\n",
       "      <th></th>\n",
       "      <th>age</th>\n",
       "      <th>job</th>\n",
       "      <th>marital</th>\n",
       "      <th>education</th>\n",
       "      <th>default</th>\n",
       "      <th>balance</th>\n",
       "      <th>housing</th>\n",
       "      <th>loan</th>\n",
       "      <th>contact</th>\n",
       "      <th>day</th>\n",
       "      <th>month</th>\n",
       "      <th>duration</th>\n",
       "      <th>campaign</th>\n",
       "      <th>pdays</th>\n",
       "      <th>previous</th>\n",
       "      <th>poutcome</th>\n",
       "      <th>y</th>\n",
       "    </tr>\n",
       "  </thead>\n",
       "  <tbody>\n",
       "    <tr>\n",
       "      <th>0</th>\n",
       "      <td>58</td>\n",
       "      <td>management</td>\n",
       "      <td>married</td>\n",
       "      <td>tertiary</td>\n",
       "      <td>no</td>\n",
       "      <td>2143</td>\n",
       "      <td>yes</td>\n",
       "      <td>no</td>\n",
       "      <td>unknown</td>\n",
       "      <td>5</td>\n",
       "      <td>may</td>\n",
       "      <td>261</td>\n",
       "      <td>1</td>\n",
       "      <td>-1</td>\n",
       "      <td>0</td>\n",
       "      <td>unknown</td>\n",
       "      <td>no</td>\n",
       "    </tr>\n",
       "    <tr>\n",
       "      <th>1</th>\n",
       "      <td>44</td>\n",
       "      <td>technician</td>\n",
       "      <td>single</td>\n",
       "      <td>secondary</td>\n",
       "      <td>no</td>\n",
       "      <td>29</td>\n",
       "      <td>yes</td>\n",
       "      <td>no</td>\n",
       "      <td>unknown</td>\n",
       "      <td>5</td>\n",
       "      <td>may</td>\n",
       "      <td>151</td>\n",
       "      <td>1</td>\n",
       "      <td>-1</td>\n",
       "      <td>0</td>\n",
       "      <td>unknown</td>\n",
       "      <td>no</td>\n",
       "    </tr>\n",
       "    <tr>\n",
       "      <th>2</th>\n",
       "      <td>33</td>\n",
       "      <td>entrepreneur</td>\n",
       "      <td>married</td>\n",
       "      <td>secondary</td>\n",
       "      <td>no</td>\n",
       "      <td>2</td>\n",
       "      <td>yes</td>\n",
       "      <td>yes</td>\n",
       "      <td>unknown</td>\n",
       "      <td>5</td>\n",
       "      <td>may</td>\n",
       "      <td>76</td>\n",
       "      <td>1</td>\n",
       "      <td>-1</td>\n",
       "      <td>0</td>\n",
       "      <td>unknown</td>\n",
       "      <td>no</td>\n",
       "    </tr>\n",
       "    <tr>\n",
       "      <th>3</th>\n",
       "      <td>47</td>\n",
       "      <td>blue-collar</td>\n",
       "      <td>married</td>\n",
       "      <td>unknown</td>\n",
       "      <td>no</td>\n",
       "      <td>1506</td>\n",
       "      <td>yes</td>\n",
       "      <td>no</td>\n",
       "      <td>unknown</td>\n",
       "      <td>5</td>\n",
       "      <td>may</td>\n",
       "      <td>92</td>\n",
       "      <td>1</td>\n",
       "      <td>-1</td>\n",
       "      <td>0</td>\n",
       "      <td>unknown</td>\n",
       "      <td>no</td>\n",
       "    </tr>\n",
       "    <tr>\n",
       "      <th>4</th>\n",
       "      <td>33</td>\n",
       "      <td>unknown</td>\n",
       "      <td>single</td>\n",
       "      <td>unknown</td>\n",
       "      <td>no</td>\n",
       "      <td>1</td>\n",
       "      <td>no</td>\n",
       "      <td>no</td>\n",
       "      <td>unknown</td>\n",
       "      <td>5</td>\n",
       "      <td>may</td>\n",
       "      <td>198</td>\n",
       "      <td>1</td>\n",
       "      <td>-1</td>\n",
       "      <td>0</td>\n",
       "      <td>unknown</td>\n",
       "      <td>no</td>\n",
       "    </tr>\n",
       "  </tbody>\n",
       "</table>\n",
       "</div>"
      ],
      "text/plain": [
       "   age           job  marital  education default  balance housing loan  \\\n",
       "0   58    management  married   tertiary      no     2143     yes   no   \n",
       "1   44    technician   single  secondary      no       29     yes   no   \n",
       "2   33  entrepreneur  married  secondary      no        2     yes  yes   \n",
       "3   47   blue-collar  married    unknown      no     1506     yes   no   \n",
       "4   33       unknown   single    unknown      no        1      no   no   \n",
       "\n",
       "   contact  day month  duration  campaign  pdays  previous poutcome   y  \n",
       "0  unknown    5   may       261         1     -1         0  unknown  no  \n",
       "1  unknown    5   may       151         1     -1         0  unknown  no  \n",
       "2  unknown    5   may        76         1     -1         0  unknown  no  \n",
       "3  unknown    5   may        92         1     -1         0  unknown  no  \n",
       "4  unknown    5   may       198         1     -1         0  unknown  no  "
      ]
     },
     "execution_count": 3,
     "metadata": {},
     "output_type": "execute_result"
    }
   ],
   "source": [
    "print(\"데이터의 크기 : {df.shape}\")\n",
    "df.head()"
   ]
  },
  {
   "cell_type": "markdown",
   "metadata": {},
   "source": [
    "#### 명목형 변수\n",
    "\n",
    "총 9개의 명목형 변수가 존재하고, 각 변수 별로 아래와 같은 값들이 존재합니다."
   ]
  },
  {
   "cell_type": "code",
   "execution_count": 4,
   "metadata": {},
   "outputs": [
    {
     "name": "stdout",
     "output_type": "stream",
     "text": [
      "marital: ['divorced' 'married' 'single']\n",
      "\n",
      "job: ['admin.' 'blue-collar' 'entrepreneur' 'housemaid' 'management' 'retired'\n",
      " 'self-employed' 'services' 'student' 'technician' 'unemployed' 'unknown']\n",
      "\n",
      "contact: ['cellular' 'telephone' 'unknown']\n",
      "\n",
      "education: ['primary' 'secondary' 'tertiary' 'unknown']\n",
      "\n",
      "month: ['apr' 'aug' 'dec' 'feb' 'jan' 'jul' 'jun' 'mar' 'may' 'nov' 'oct' 'sep']\n",
      "\n",
      "poutcome: ['failure' 'other' 'success' 'unknown']\n",
      "\n",
      "housing: ['no' 'yes']\n",
      "\n",
      "loan: ['no' 'yes']\n",
      "\n",
      "default: ['no' 'yes']\n",
      "\n"
     ]
    }
   ],
   "source": [
    "cat_col_names = [\"marital\",'job','contact','education','month',\"poutcome\",\"housing\",\"loan\",'default']\n",
    "\n",
    "for col_name in cat_col_names:\n",
    "    cat_values = np.unique(df[col_name])\n",
    "    print(f\"{col_name}: {cat_values}\\n\")"
   ]
  },
  {
   "cell_type": "markdown",
   "metadata": {},
   "source": [
    "#### 수치형 변수\n",
    "\n",
    "총 7개의 수치형 변수가 존재하고, 값의 범위는 아래와 같습니다. "
   ]
  },
  {
   "cell_type": "code",
   "execution_count": 5,
   "metadata": {},
   "outputs": [
    {
     "name": "stdout",
     "output_type": "stream",
     "text": [
      "age: (18,95)\n",
      "balance: (-8019,102127)\n",
      "day: (1,31)\n",
      "duration: (0,4918)\n",
      "campaign: (1,63)\n",
      "pdays: (-1,871)\n",
      "previous: (0,275)\n"
     ]
    }
   ],
   "source": [
    "num_col_names = ['age', 'balance', 'day', 'duration',\n",
    "                 'campaign','pdays', 'previous']\n",
    "\n",
    "for col_name in num_col_names:\n",
    "    print(f\"{col_name}: ({df[col_name].min()},{df[col_name].max()})\")"
   ]
  },
  {
   "cell_type": "markdown",
   "metadata": {},
   "source": [
    "### 데이터 변환하기\n",
    "\n",
    "딥러닝 모형에 넣기 전에 우선 데이터들을 전처리해주어야 합니다. 명목형 변수는 인덱스로 변환하는 Label Encoder를 적용하고, 수치형 변수는 정규분포로 변환하는 StandardScaler를 적용합니다."
   ]
  },
  {
   "cell_type": "markdown",
   "metadata": {},
   "source": [
    "#### 명목형 변수 변환하기\n",
    "\n",
    "각 변수 별로 각각 LabelEncoder을 선언하여 적용해 줍니다. 라벨인코더는 각 명목형 변수의 값을 대응하는 인덱스(숫자)에 맵핑시켜주는 전처리 클래스입니다."
   ]
  },
  {
   "cell_type": "code",
   "execution_count": 6,
   "metadata": {},
   "outputs": [
    {
     "data": {
      "text/plain": [
       "array([[1, 4, 2, ..., 1, 0, 0],\n",
       "       [2, 9, 2, ..., 1, 0, 0],\n",
       "       [1, 2, 2, ..., 1, 1, 0],\n",
       "       ...,\n",
       "       [1, 5, 0, ..., 0, 0, 0],\n",
       "       [1, 1, 1, ..., 0, 0, 0],\n",
       "       [1, 2, 0, ..., 0, 0, 0]])"
      ]
     },
     "execution_count": 6,
     "metadata": {},
     "output_type": "execute_result"
    }
   ],
   "source": [
    "from sklearn.preprocessing import LabelEncoder\n",
    "\n",
    "category_xs = []\n",
    "category_encoders = []\n",
    "for col_name in cat_col_names:\n",
    "    encoder = LabelEncoder()\n",
    "    encoded_xs = encoder.fit_transform(df[col_name])\n",
    "\n",
    "    category_xs.append(encoded_xs)\n",
    "    category_encoders.append(encoder)\n",
    "\n",
    "category_xs = np.stack(category_xs, axis=1) \n",
    "category_xs"
   ]
  },
  {
   "cell_type": "markdown",
   "metadata": {},
   "source": [
    "#### 수치형 변수 변환하기"
   ]
  },
  {
   "cell_type": "code",
   "execution_count": 7,
   "metadata": {},
   "outputs": [
    {
     "data": {
      "text/plain": [
       "array([[ 1.607,  0.256, -1.298, ..., -0.569, -0.411, -0.252],\n",
       "       [ 0.289, -0.438, -1.298, ..., -0.569, -0.411, -0.252],\n",
       "       [-0.747, -0.447, -1.298, ..., -0.569, -0.411, -0.252],\n",
       "       ...,\n",
       "       [ 2.925,  1.43 ,  0.143, ...,  0.722,  1.436,  1.05 ],\n",
       "       [ 1.513, -0.228,  0.143, ...,  0.399, -0.411, -0.252],\n",
       "       [-0.371,  0.528,  0.143, ..., -0.247,  1.476,  4.524]])"
      ]
     },
     "execution_count": 7,
     "metadata": {},
     "output_type": "execute_result"
    }
   ],
   "source": [
    "from sklearn.preprocessing import StandardScaler\n",
    "\n",
    "numeric_encoder = StandardScaler()\n",
    "numeric_xs = numeric_encoder.fit_transform(df[num_col_names])\n",
    "numeric_xs"
   ]
  },
  {
   "cell_type": "markdown",
   "metadata": {},
   "source": [
    "#### 타깃 변수($y$) 변환하기\n",
    "\n",
    "가입할지에 대한 Binary Classification 문제입니다. 가입할 경우 True, 가입하지 않은 경우 False로 학습합니다."
   ]
  },
  {
   "cell_type": "code",
   "execution_count": 8,
   "metadata": {},
   "outputs": [
    {
     "data": {
      "text/plain": [
       "array([False, False, False, ...,  True, False, False])"
      ]
     },
     "execution_count": 8,
     "metadata": {},
     "output_type": "execute_result"
    }
   ],
   "source": [
    "ys = df.y.map({'yes':True,'no':False}).values\n",
    "ys"
   ]
  },
  {
   "cell_type": "markdown",
   "metadata": {},
   "source": [
    "### 학습데이터와 평가데이터 나누기\n",
    "\n",
    "성능을 평가하기 위해 학습데이터와 평가데이터를 나눕니다. 이때 라벨의 True/False의 비율이 다르기 때문에, startify를 통해 train/test 내 라벨의 비율을 동일하게 맞춰줍니다."
   ]
  },
  {
   "cell_type": "code",
   "execution_count": 9,
   "metadata": {},
   "outputs": [],
   "source": [
    "from sklearn.model_selection import train_test_split\n",
    "\n",
    "splitted = train_test_split(category_xs, numeric_xs, ys, \n",
    "                            test_size=0.1,stratify=ys)\n",
    "\n",
    "train_category_xs, train_numeric_xs, train_ys = splitted[::2]\n",
    "test_category_xs, test_numeric_xs, test_ys = splitted[1::2]"
   ]
  },
  {
   "cell_type": "markdown",
   "metadata": {},
   "source": [
    "## 카테고리형 변수를 처리하는 딥러닝 모형 만들기"
   ]
  },
  {
   "cell_type": "markdown",
   "metadata": {},
   "source": [
    "#### 모델의 입력값 구성하기\n",
    "\n",
    "모델의 입력값은 명목형 입력값과 수치형 입력값으로 나뉘어져 있습니다. 카테고리형 입력값은 위에서 인덱스, 즉 정수형 값으로 바꾸어 두었고, 수치형 입력값은 실수형 값을 가지고 있습니다."
   ]
  },
  {
   "cell_type": "code",
   "execution_count": 10,
   "metadata": {},
   "outputs": [],
   "source": [
    "from tensorflow.keras.layers import Input\n",
    "\n",
    "category_inputs = Input((9,), dtype=tf.int32)\n",
    "numeric_inputs = Input((7,), dtype=tf.float32)"
   ]
  },
  {
   "cell_type": "markdown",
   "metadata": {},
   "source": [
    "#### 명목형 입력값을 임베딩하기\n",
    "\n",
    "머신러닝에서 임베딩이란, **모형이 다룰 수 있는 숫자 벡터로 바꾸어주는 작업**을 의미합니다. LabelEncoder로 바꾼 인덱스는 사실 연산을 바로 적용하기에는 부적절합니다. 인덱스(0,1,2,3,..,)으로 이루어진 이 값들은 인덱스 간 크기의 대소에 아무런 의미가 없기 때문입니다. 모형이 다루기 위해서는 적절한 숫자 벡터로 바꾸어 주어야 하는데, 이러한 작업을 통칭해 임베딩이라고 부릅니다. \n",
    "\n",
    "딥러닝에서는 별도의 Embedding Layer을 제공합니다. 각 인덱스에 대응하는 임베딩 벡터를 반환합니다. 해당 임베딩 벡터는 모형의 학습 과정 중에서 적절한 값으로 바뀌어갑니다."
   ]
  },
  {
   "cell_type": "code",
   "execution_count": 11,
   "metadata": {},
   "outputs": [
    {
     "data": {
      "text/plain": [
       "[<tf.Tensor 'marital_embed/Identity:0' shape=(None, 4) dtype=float32>,\n",
       " <tf.Tensor 'job_embed/Identity:0' shape=(None, 4) dtype=float32>,\n",
       " <tf.Tensor 'contact_embed/Identity:0' shape=(None, 4) dtype=float32>,\n",
       " <tf.Tensor 'education_embed/Identity:0' shape=(None, 4) dtype=float32>,\n",
       " <tf.Tensor 'month_embed/Identity:0' shape=(None, 4) dtype=float32>,\n",
       " <tf.Tensor 'poutcome_embed/Identity:0' shape=(None, 4) dtype=float32>,\n",
       " <tf.Tensor 'housing_embed/Identity:0' shape=(None, 4) dtype=float32>,\n",
       " <tf.Tensor 'loan_embed/Identity:0' shape=(None, 4) dtype=float32>,\n",
       " <tf.Tensor 'default_embed/Identity:0' shape=(None, 4) dtype=float32>]"
      ]
     },
     "execution_count": 11,
     "metadata": {},
     "output_type": "execute_result"
    }
   ],
   "source": [
    "from tensorflow.keras.layers import Embedding\n",
    "\n",
    "# 변수 별 임베딩 크기\n",
    "embed_size = 4\n",
    "\n",
    "embeds = []\n",
    "for idx, col_name in enumerate(cat_col_names):\n",
    "    # 각 변수 별 카테고리의 갯수\n",
    "    category_size = len(category_encoders[idx].classes_)\n",
    "    \n",
    "    # 각 변수 별로 임베딩 레이어 적용 (-> 각 변수 내 카테고리별로 임베딩 값들이 모델에서 학습)\n",
    "    category_embeded = Embedding(\n",
    "        category_size, embed_size, name=col_name+'_embed')(category_inputs[:,idx])\n",
    "    \n",
    "    embeds.append(category_embeded)\n",
    "embeds    "
   ]
  },
  {
   "cell_type": "markdown",
   "metadata": {},
   "source": [
    "#### 명목형 변수와 수치형 변수 합치기\n",
    "\n",
    "위와 같이 임베딩된 명목형 변수는 수치형 변수와 같이 연산에 적절한 벡터로 바뀌어져 있습니다. 수치형 변수와 이제 합치도록 하겠습니다."
   ]
  },
  {
   "cell_type": "code",
   "execution_count": 12,
   "metadata": {},
   "outputs": [
    {
     "data": {
      "text/plain": [
       "<tf.Tensor 'embed_concat/Identity:0' shape=(None, 43) dtype=float32>"
      ]
     },
     "execution_count": 12,
     "metadata": {},
     "output_type": "execute_result"
    }
   ],
   "source": [
    "from tensorflow.keras.layers import Concatenate\n",
    "\n",
    "inputs_list = embeds + [numeric_inputs]\n",
    "concats = Concatenate(name='embed_concat')(inputs_list)\n",
    "concats"
   ]
  },
  {
   "cell_type": "markdown",
   "metadata": {},
   "source": [
    "#### 딥러닝 모형 구성하기\n",
    "\n",
    "3층 신경망으로 구성하도록 하겠습니다. Overfitting을 방지하기 위해, L2 정규화와 Dropout Layer을 추가하였습니다."
   ]
  },
  {
   "cell_type": "code",
   "execution_count": null,
   "metadata": {},
   "outputs": [],
   "source": [
    "from tensorflow.keras.layers import Dense\n",
    "from tensorflow.keras.layers import Dropout\n",
    "from tensorflow.keras.regularizers import l2\n",
    "from tensorflow.keras.models import Model\n",
    "\n",
    "hidden = Dense(50,activation='relu', name='hidden1',\n",
    "               kernel_regularizer=l2(1e-5))(concats)\n",
    "hidden = Dropout(0.3, name='dropout1')(hidden)\n",
    "hidden = Dense(50,activation='relu', name='hidden2',\n",
    "               kernel_regularizer=l2(1e-5))(hidden)\n",
    "hidden = Dropout(0.3, name='dropout2')(hidden)\n",
    "output = Dense(1, activation='sigmoid', name='output',\n",
    "               kernel_regularizer=l2(1e-5))(hidden)\n",
    "\n",
    "model = Model([category_inputs, numeric_inputs], output)"
   ]
  },
  {
   "cell_type": "markdown",
   "metadata": {},
   "source": [
    "#### 모델 학습시키기\n",
    "\n",
    "모형의 손실함수와 옵티마이저를 설정한 후, 데이터를 통해 모델을 학습시켜 보도록 하겠습니다."
   ]
  },
  {
   "cell_type": "code",
   "execution_count": 14,
   "metadata": {},
   "outputs": [],
   "source": [
    "from tensorflow.keras.optimizers import Adagrad\n",
    "from tensorflow.keras.losses import BinaryCrossentropy\n",
    "from tensorflow.keras.metrics import BinaryAccuracy\n",
    "\n",
    "model.compile(optimizer=Adagrad(1e-2),\n",
    "              loss=BinaryCrossentropy(),\n",
    "              metrics=[BinaryAccuracy()])\n",
    "\n",
    "train_xs = [train_category_xs,train_numeric_xs]\n",
    "model.fit(x=train_xs, y=train_ys,\n",
    "          batch_size=64, epochs=100, \n",
    "          validation_split=0.1, verbose=0);"
   ]
  },
  {
   "cell_type": "markdown",
   "metadata": {},
   "source": [
    "#### 모델 평가하기\n",
    "\n",
    "테스트 데이터를 통해 모형의 정확도를 산출해보도록 하겠습니다.\n"
   ]
  },
  {
   "cell_type": "code",
   "execution_count": 15,
   "metadata": {},
   "outputs": [
    {
     "name": "stdout",
     "output_type": "stream",
     "text": [
      "딥러닝 모형의 정확도 : 90.513%\n"
     ]
    }
   ],
   "source": [
    "loss, acc = model.evaluate(x=[test_category_xs, test_numeric_xs], y=test_ys, verbose=0)\n",
    "print(f\"딥러닝 모형의 정확도 : {acc:.3%}\")"
   ]
  },
  {
   "cell_type": "markdown",
   "metadata": {},
   "source": [
    "### c.f) Random Forest 모형과 비교해보기\n",
    "\n",
    "대표적인 Decision Tree 모형인 RandomForest로도 데이터를 동일하게 두고 학습시킨 결과입니다. 복잡하지 않은 단순한 형태의 딥러닝 만으로도 충분히 RandomForest와 비슷하게 성능이 나옵니다. "
   ]
  },
  {
   "cell_type": "code",
   "execution_count": 16,
   "metadata": {},
   "outputs": [
    {
     "data": {
      "text/plain": [
       "0.9053516143299425"
      ]
     },
     "execution_count": 16,
     "metadata": {},
     "output_type": "execute_result"
    }
   ],
   "source": [
    "from sklearn.ensemble import RandomForestClassifier\n",
    "\n",
    "rf_clf = RandomForestClassifier()\n",
    "\n",
    "# 모형 학습시키기\n",
    "train_xs = np.concatenate([train_category_xs,train_numeric_xs],axis=1)\n",
    "rf_clf.fit(train_xs, train_ys)\n",
    "\n",
    "# 모형 평가하기 \n",
    "test_xs = np.concatenate([test_category_xs,test_numeric_xs],axis=1)\n",
    "rf_clf.score(test_xs, test_ys)"
   ]
  }
 ],
 "metadata": {
  "kernelspec": {
   "display_name": "Python 3",
   "language": "python",
   "name": "python3"
  },
  "language_info": {
   "codemirror_mode": {
    "name": "ipython",
    "version": 3
   },
   "file_extension": ".py",
   "mimetype": "text/x-python",
   "name": "python",
   "nbconvert_exporter": "python",
   "pygments_lexer": "ipython3",
   "version": "3.6.8"
  },
  "toc": {
   "base_numbering": 1,
   "nav_menu": {},
   "number_sections": false,
   "sideBar": true,
   "skip_h1_title": false,
   "title_cell": "Table of Contents",
   "title_sidebar": "Contents",
   "toc_cell": false,
   "toc_position": {},
   "toc_section_display": true,
   "toc_window_display": false
  },
  "varInspector": {
   "cols": {
    "lenName": 16,
    "lenType": 16,
    "lenVar": 40
   },
   "kernels_config": {
    "python": {
     "delete_cmd_postfix": "",
     "delete_cmd_prefix": "del ",
     "library": "var_list.py",
     "varRefreshCmd": "print(var_dic_list())"
    },
    "r": {
     "delete_cmd_postfix": ") ",
     "delete_cmd_prefix": "rm(",
     "library": "var_list.r",
     "varRefreshCmd": "cat(var_dic_list()) "
    }
   },
   "types_to_exclude": [
    "module",
    "function",
    "builtin_function_or_method",
    "instance",
    "_Feature"
   ],
   "window_display": false
  }
 },
 "nbformat": 4,
 "nbformat_minor": 2
}
