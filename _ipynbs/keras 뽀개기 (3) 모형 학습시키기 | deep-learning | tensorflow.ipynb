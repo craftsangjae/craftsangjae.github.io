{
 "cells": [
  {
   "cell_type": "markdown",
   "metadata": {},
   "source": [
    "keras에서의 모델 학습은 `model.fit`으로 high-level API로 이루어집니다. 모델의 손실함수와 옵티마이저를 지정하고, 데이터를 넣으면 데이터에 맞게 모형의 가중치를 갱신합니다. 무척 편하지만, 어떻게 돌아가는지를 알지 못하면 튜닝하기도 어렵습니다. 간단한 예시로 한번 살펴보도록 하겠습니다."
   ]
  },
  {
   "cell_type": "markdown",
   "metadata": {},
   "source": [
    "## MNIST 코드 후다닥 작성하기"
   ]
  },
  {
   "cell_type": "markdown",
   "metadata": {},
   "source": [
    "#### 데이터 불러오기"
   ]
  },
  {
   "cell_type": "code",
   "execution_count": 1,
   "metadata": {},
   "outputs": [
    {
     "name": "stdout",
     "output_type": "stream",
     "text": [
      "train image shape :  (60000, 28, 28)\n",
      "train label shape :  (60000,)\n",
      "test image shape :  (10000, 28, 28)\n",
      "test label shape :  (10000,)\n"
     ]
    }
   ],
   "source": [
    "from tensorflow.keras.datasets.mnist import load_data\n",
    "(x_train, y_train), (x_test, y_test) = load_data()\n",
    "\n",
    "print(\"train image shape : \", x_train.shape)\n",
    "print(\"train label shape : \", y_train.shape)\n",
    "print(\"test image shape : \", x_test.shape)\n",
    "print(\"test label shape : \", y_test.shape)"
   ]
  },
  {
   "cell_type": "markdown",
   "metadata": {},
   "source": [
    "#### 모델 구성하기\n",
    "\n",
    "은닉층이 6개인 딥러닝 모형을 구성하도록 하겠습니다."
   ]
  },
  {
   "cell_type": "code",
   "execution_count": 2,
   "metadata": {},
   "outputs": [
    {
     "name": "stdout",
     "output_type": "stream",
     "text": [
      "Model: \"model\"\n",
      "_________________________________________________________________\n",
      "Layer (type)                 Output Shape              Param #   \n",
      "=================================================================\n",
      "input_1 (InputLayer)         [(None, 28, 28)]          0         \n",
      "_________________________________________________________________\n",
      "reshape (Reshape)            (None, 28, 28, 1)         0         \n",
      "_________________________________________________________________\n",
      "conv2d (Conv2D)              (None, 26, 26, 16)        160       \n",
      "_________________________________________________________________\n",
      "conv2d_1 (Conv2D)            (None, 12, 12, 16)        2320      \n",
      "_________________________________________________________________\n",
      "conv2d_2 (Conv2D)            (None, 5, 5, 16)          2320      \n",
      "_________________________________________________________________\n",
      "conv2d_3 (Conv2D)            (None, 2, 2, 16)          2320      \n",
      "_________________________________________________________________\n",
      "flatten (Flatten)            (None, 64)                0         \n",
      "_________________________________________________________________\n",
      "dense (Dense)                (None, 20)                1300      \n",
      "_________________________________________________________________\n",
      "dense_1 (Dense)              (None, 10)                210       \n",
      "=================================================================\n",
      "Total params: 8,630\n",
      "Trainable params: 8,630\n",
      "Non-trainable params: 0\n",
      "_________________________________________________________________\n"
     ]
    }
   ],
   "source": [
    "from tensorflow.keras.layers import Input, Reshape\n",
    "from tensorflow.keras.layers import Conv2D, Dense\n",
    "from tensorflow.keras.layers import Flatten\n",
    "from tensorflow.keras.models import Model\n",
    "\n",
    "inputs = Input((28,28)) \n",
    "reshaped = Reshape((28,28,1))(inputs) # 채널 축 추가\n",
    "\n",
    "# Convolution Layers\n",
    "hidden = Conv2D(16, (3,3), activation='relu')(reshaped)\n",
    "hidden = Conv2D(16, (3,3), strides=(2,2), activation='relu')(hidden)\n",
    "hidden = Conv2D(16, (3,3), strides=(2,2), activation='relu')(hidden)\n",
    "hidden = Conv2D(16, (3,3), strides=(2,2), activation='relu')(hidden)\n",
    "\n",
    "# Fully Connected Layers\n",
    "flatten = Flatten()(hidden)\n",
    "fc = Dense(20, activation='relu')(flatten)\n",
    "outputs = Dense(10, activation='softmax')(fc)\n",
    "\n",
    "model = Model(inputs, outputs)\n",
    "model.summary()"
   ]
  },
  {
   "cell_type": "markdown",
   "metadata": {},
   "source": [
    "#### 모델 컴파일하기\n",
    "\n",
    "라벨이 인덱스로 되어 있으므로, sparse_categorical_crossentropy를 이용해야 합니다."
   ]
  },
  {
   "cell_type": "code",
   "execution_count": 3,
   "metadata": {},
   "outputs": [],
   "source": [
    "from tensorflow.keras.losses import SparseCategoricalCrossentropy\n",
    "from tensorflow.keras.optimizers import SGD\n",
    "from tensorflow.keras.metrics import SparseCategoricalAccuracy\n",
    "\n",
    "model.compile(\n",
    "    optimizer=SGD(1e-2),\n",
    "    loss=SparseCategoricalCrossentropy(),\n",
    "    metrics=[SparseCategoricalAccuracy()])"
   ]
  },
  {
   "cell_type": "markdown",
   "metadata": {},
   "source": [
    "#### 모델 학습하기\n",
    "\n",
    "batch size는 64, epoch은 3번만 학습하도록 하겠습니다."
   ]
  },
  {
   "cell_type": "code",
   "execution_count": 4,
   "metadata": {},
   "outputs": [
    {
     "name": "stdout",
     "output_type": "stream",
     "text": [
      "Train on 60000 samples, validate on 10000 samples\n",
      "Epoch 1/3\n",
      "60000/60000 [==============================] - 12s 194us/sample - loss: 0.5621 - sparse_categorical_accuracy: 0.8195 - val_loss: 0.2037 - val_sparse_categorical_accuracy: 0.9347\n",
      "Epoch 2/3\n",
      "60000/60000 [==============================] - 11s 189us/sample - loss: 0.1718 - sparse_categorical_accuracy: 0.9471 - val_loss: 0.1300 - val_sparse_categorical_accuracy: 0.9589\n",
      "Epoch 3/3\n",
      "60000/60000 [==============================] - 11s 187us/sample - loss: 0.1269 - sparse_categorical_accuracy: 0.9611 - val_loss: 0.1184 - val_sparse_categorical_accuracy: 0.9619\n"
     ]
    }
   ],
   "source": [
    "model.fit(x=x_train, y=y_train, \n",
    "          batch_size=64, epochs=3,\n",
    "          validation_data=(x_test, y_test));"
   ]
  },
  {
   "cell_type": "markdown",
   "metadata": {},
   "source": [
    "## Keras Low-API로 작성해보기\n",
    "동일한 모델을 `.fit` 없이 코드를 작성해보도록 하겠습니다."
   ]
  },
  {
   "cell_type": "code",
   "execution_count": 32,
   "metadata": {},
   "outputs": [
    {
     "name": "stdout",
     "output_type": "stream",
     "text": [
      "Model: \"model_2\"\n",
      "_________________________________________________________________\n",
      "Layer (type)                 Output Shape              Param #   \n",
      "=================================================================\n",
      "input_3 (InputLayer)         [(None, 28, 28)]          0         \n",
      "_________________________________________________________________\n",
      "reshape_2 (Reshape)          (None, 28, 28, 1)         0         \n",
      "_________________________________________________________________\n",
      "conv2d_8 (Conv2D)            (None, 26, 26, 16)        160       \n",
      "_________________________________________________________________\n",
      "conv2d_9 (Conv2D)            (None, 12, 12, 16)        2320      \n",
      "_________________________________________________________________\n",
      "conv2d_10 (Conv2D)           (None, 5, 5, 16)          2320      \n",
      "_________________________________________________________________\n",
      "conv2d_11 (Conv2D)           (None, 2, 2, 16)          2320      \n",
      "_________________________________________________________________\n",
      "flatten_2 (Flatten)          (None, 64)                0         \n",
      "_________________________________________________________________\n",
      "dense_4 (Dense)              (None, 20)                1300      \n",
      "_________________________________________________________________\n",
      "dense_5 (Dense)              (None, 10)                210       \n",
      "=================================================================\n",
      "Total params: 8,630\n",
      "Trainable params: 8,630\n",
      "Non-trainable params: 0\n",
      "_________________________________________________________________\n"
     ]
    }
   ],
   "source": [
    "inputs = Input((28,28)) \n",
    "reshaped = Reshape((28,28,1))(inputs) # 채널 축 추가\n",
    "\n",
    "# Convolution Layers\n",
    "hidden = Conv2D(16, (3,3), activation='relu')(reshaped)\n",
    "hidden = Conv2D(16, (3,3), strides=(2,2), activation='relu')(hidden)\n",
    "hidden = Conv2D(16, (3,3), strides=(2,2), activation='relu')(hidden)\n",
    "hidden = Conv2D(16, (3,3), strides=(2,2), activation='relu')(hidden)\n",
    "\n",
    "# Fully Connected Layers\n",
    "flatten = Flatten()(hidden)\n",
    "fc = Dense(20, activation='relu')(flatten)\n",
    "outputs = Dense(10, activation='softmax')(fc)\n",
    "\n",
    "model = Model(inputs, outputs)\n",
    "model.summary()"
   ]
  },
  {
   "cell_type": "markdown",
   "metadata": {},
   "source": [
    "#### fit 구문 없이 작성해보기\n",
    "\n",
    "손실함수 / 옵티마이저 / Metric 함수 없이 날것으로 코드를 작성한다면 아래와 같이 작성할 수 있습니다."
   ]
  },
  {
   "cell_type": "code",
   "execution_count": 34,
   "metadata": {},
   "outputs": [
    {
     "name": "stderr",
     "output_type": "stream",
     "text": [
      "100%|██████████| 937/937 [00:24<00:00, 38.77it/s]\n",
      "  0%|          | 4/937 [00:00<00:26, 35.36it/s]"
     ]
    },
    {
     "name": "stdout",
     "output_type": "stream",
     "text": [
      "0th epoch test accuracy : 94.830%\n"
     ]
    },
    {
     "name": "stderr",
     "output_type": "stream",
     "text": [
      "100%|██████████| 937/937 [00:22<00:00, 42.20it/s]\n",
      "  0%|          | 4/937 [00:00<00:27, 33.82it/s]"
     ]
    },
    {
     "name": "stdout",
     "output_type": "stream",
     "text": [
      "1th epoch test accuracy : 96.690%\n"
     ]
    },
    {
     "name": "stderr",
     "output_type": "stream",
     "text": [
      "100%|██████████| 937/937 [00:22<00:00, 41.87it/s]\n"
     ]
    },
    {
     "name": "stdout",
     "output_type": "stream",
     "text": [
      "2th epoch test accuracy : 97.160%\n"
     ]
    }
   ],
   "source": [
    "from sklearn.utils import shuffle\n",
    "from tqdm import tqdm\n",
    "import tensorflow as tf\n",
    "import numpy as np\n",
    "\n",
    "epochs = 3\n",
    "batch_size = 64\n",
    "lr = 1e-2\n",
    "\n",
    "for epoch in  range(epochs):\n",
    "    # Shuffling\n",
    "    x_train, y_train = shuffle(x_train, y_train)\n",
    "    for i in tqdm(range(len(x_train)//batch_size)):\n",
    "        # 배치단위로 나누기\n",
    "        x_batch = x_train[i*batch_size:(i+1)*batch_size]\n",
    "        x_batch = x_batch.astype(np.float32)\n",
    "        y_batch = y_train[i*batch_size:(i+1)*batch_size]\n",
    "        \n",
    "        with tf.GradientTape() as tape:\n",
    "            # 순전파\n",
    "            y_pred = model(x_batch)\n",
    "            \n",
    "            # Sparse Categorical Crossentropy 수식\n",
    "            y_pred = tf.clip_by_value(y_pred,1e-7,1-1e-7)\n",
    "            loss = tf.reduce_mean(\n",
    "                -tf.reduce_sum(\n",
    "                tf.one_hot(y_batch,10) * tf.math.log(y_pred),axis=-1))\n",
    "\n",
    "        # 역전파를 통해 gradient 계산\n",
    "        grads = tape.gradient(loss, model.weights) \n",
    "        \n",
    "        # Stochastic Gradient Descent\n",
    "        for weight, grad in zip(model.weights, grads):\n",
    "            weight.assign_sub(lr*grad)\n",
    "\n",
    "    # Model Evaluation\n",
    "    y_pred = model(x_test.astype(np.float32))\n",
    "    accuracy = np.mean(np.argmax(y_pred,axis=-1) == y_test)\n",
    "    print(f\"{epoch}th epoch test accuracy : {accuracy:.3%}\")"
   ]
  }
 ],
 "metadata": {
  "kernelspec": {
   "display_name": "Python 3",
   "language": "python",
   "name": "python3"
  },
  "language_info": {
   "codemirror_mode": {
    "name": "ipython",
    "version": 3
   },
   "file_extension": ".py",
   "mimetype": "text/x-python",
   "name": "python",
   "nbconvert_exporter": "python",
   "pygments_lexer": "ipython3",
   "version": "3.6.8"
  },
  "toc": {
   "base_numbering": 1,
   "nav_menu": {},
   "number_sections": false,
   "sideBar": true,
   "skip_h1_title": false,
   "title_cell": "Table of Contents",
   "title_sidebar": "Contents",
   "toc_cell": false,
   "toc_position": {},
   "toc_section_display": true,
   "toc_window_display": false
  },
  "varInspector": {
   "cols": {
    "lenName": 16,
    "lenType": 16,
    "lenVar": 40
   },
   "kernels_config": {
    "python": {
     "delete_cmd_postfix": "",
     "delete_cmd_prefix": "del ",
     "library": "var_list.py",
     "varRefreshCmd": "print(var_dic_list())"
    },
    "r": {
     "delete_cmd_postfix": ") ",
     "delete_cmd_prefix": "rm(",
     "library": "var_list.r",
     "varRefreshCmd": "cat(var_dic_list()) "
    }
   },
   "types_to_exclude": [
    "module",
    "function",
    "builtin_function_or_method",
    "instance",
    "_Feature"
   ],
   "window_display": false
  }
 },
 "nbformat": 4,
 "nbformat_minor": 2
}
